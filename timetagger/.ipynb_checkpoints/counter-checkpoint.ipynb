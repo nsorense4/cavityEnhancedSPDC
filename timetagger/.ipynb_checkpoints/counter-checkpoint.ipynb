{
 "cells": [
  {
   "cell_type": "code",
   "execution_count": 3,
   "metadata": {},
   "outputs": [
    {
     "data": {
      "image/png": "[encoded data removed]",
      "text/plain": [
       "<Figure size 432x288 with 1 Axes>"
      ]
     },
     "metadata": {
      "needs_background": "light"
     },
     "output_type": "display_data"
    },
    {
     "name": "stdout",
     "output_type": "stream",
     "text": [
      "Count rates\n",
      " channel 1:    818201 c/s\n",
      " channel 2:    818201 c/s\n",
      " channel 3:    818201 c/s\n",
      " channel 4:    818201 c/s\n",
      " channel 5:    818201 c/s\n",
      " channel 6:    818201 c/s\n",
      " channel 7:    818201 c/s\n",
      " channel 8:    818201 c/s\n",
      "\n"
     ]
    }
   ],
   "source": [
    "# -*- coding: utf-8 -*-\n",
    "\n",
    "\"\"\"\n",
    "\n",
    "@author: Nick Sorensen\n",
    "\n",
    "\"\"\"\n",
    "\n",
    "import sys\n",
    "import numpy\n",
    "import matplotlib\n",
    "try:\n",
    "    import TimeTagger\n",
    "except:\n",
    "    print (\"Time Tagger lib is not in the search path.\")\n",
    "    pyversion = sys.version_info\n",
    "    from winreg import ConnectRegistry, OpenKey, HKEY_LOCAL_MACHINE, QueryValueEx\n",
    "    registry_path = \"SOFTWARE\\\\Python\\\\PythonCore\\\\\" + str(pyversion.major) + \".\" + str(pyversion.minor) + \"\\\\PythonPath\\\\Time Tagger\"\n",
    "    reg = ConnectRegistry(None, HKEY_LOCAL_MACHINE)\n",
    "    key = OpenKey(reg, registry_path) \n",
    "    module_path = QueryValueEx(key,'')[0]\n",
    "    print (\"adding \" + module_path)\n",
    "    sys.path.append(module_path)\n",
    "    \n",
    "from TimeTagger import createTimeTagger, Combiner, Coincidence, Counter, Countrate, Correlation, TimeDifferences, TimeTagStream, Scope, Event, CHANNEL_UNUSED, UNKNOWN, LOW, HIGH\n",
    "\n",
    "from time import sleep\n",
    "from pylab import *"
   ]
  },
  {
   "cell_type": "code",
   "execution_count": null,
   "metadata": {},
   "outputs": [],
   "source": [
    "ion()\n",
    "\n",
    "# create a timetagger instance\n",
    "tagger = createTimeTagger()\n",
    "tagger.reset()\n",
    "\n",
    "# apply the built-in test signal (~0.8 to 0.9 MHz) to channels 1 and 2\n",
    "tagger.setTestSignal([1,2,3,4,5,6,7,8], True)\n",
    "sleep(.5)\n",
    "\n",
    "cr = Countrate( tagger, channels=[1,2,3,4,5,6,7,8] )\n",
    "sleep(0.1)\n",
    "data = cr.getData()\n",
    "\n",
    "objects = ('1', '2', '3', '4', '5', '6', '7', '8')\n",
    "y_pos = np.arange(len(objects))\n",
    "\n",
    "fig, ax = subplots(1, 1)\n",
    "barg = bar(y_pos, data, align='center', alpha=0.5)\n",
    "xticks(y_pos, objects)\n",
    "ylabel('Countrate (c/s)')\n",
    "title('Countrate')\n",
    "show()\n",
    "\n",
    "\n",
    "# retrieve the current buffer\n",
    "\n",
    "\n",
    "print (\"Count rates\\n channel 1:    %i c/s\\n channel 2:    %i c/s\\n channel 3:    %i c/s\\n\"\n",
    "       \" channel 4:    %i c/s\\n channel 5:    %i c/s\\n channel 6:    %i c/s\\n \"\n",
    "       \"channel 7:    %i c/s\\n channel 8:    %i c/s\" % tuple(cr.getData()))\n",
    "print (\"\")"
   ]
  },
  {
   "cell_type": "code",
   "execution_count": null,
   "metadata": {},
   "outputs": [],
   "source": [
    "for i in range(100):\n",
    "    data = cr.getData()\n",
    "    fig.canvas.draw()\n",
    "    ylim(-1000, 1.2*max(corr.getData()))\n",
    "    time.sleep(.05)"
   ]
  }
 ],
 "metadata": {
  "kernelspec": {
   "display_name": "Python 3",
   "language": "python",
   "name": "python3"
  },
  "language_info": {
   "codemirror_mode": {
    "name": "ipython",
    "version": 3
   },
   "file_extension": ".py",
   "mimetype": "text/x-python",
   "name": "python",
   "nbconvert_exporter": "python",
   "pygments_lexer": "ipython3",
   "version": "3.8.1"
  }
 },
 "nbformat": 4,
 "nbformat_minor": 4
}
